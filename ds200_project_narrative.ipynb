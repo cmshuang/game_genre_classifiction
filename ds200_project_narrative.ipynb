{
 "cells": [
  {
   "cell_type": "markdown",
   "metadata": {},
   "source": [
    "# Video Game Genre Classification by Global Sales Data, Game Platform, and ESRB Content\n",
    "Angela Hou and Camille Huang"
   ]
  },
  {
   "cell_type": "markdown",
   "metadata": {},
   "source": [
    "## Abstract"
   ]
  },
  {
   "cell_type": "markdown",
   "metadata": {},
   "source": [
    "The video game community is quickly growing to become a multi-billion dollar industry worldwide. For new developers and publishers seeking to enter an expanding market, it would be useful to know which video game genres, platforms, and ESRB ratings are the most popular in a certain region. On the consumer side, knowing the genre of enjoyable games can help with the search for more interesting or fun content. In this paper, we seek to discover trends between genre, platform, ESRB rating, and sales in different regions, and then seek to classify a video game genre based on sales data, as well as platform and ESRB rating. The results show that our classification reflects the limitations of current genre classification, and more improvement must be made for this classification to perform sufficiently."
   ]
  },
  {
   "cell_type": "markdown",
   "metadata": {},
   "source": [
    "## Introduction"
   ]
  },
  {
   "cell_type": "markdown",
   "metadata": {},
   "source": [
    "Genre classification is not a novel concept -- it has been done, albeit manually, for media such as books, music, television, and movies<sup>4</sup>. However, the video game industry is much newer than these other media sources; as a result, genre classification is often subjective, and some games could be classified under multiple genres<sup>1</sup>. In addition to the industry’s novelty, it is also growing very quickly<sup>2</sup>, suggesting that as the industry expands, community members will find more descriptive names for certain genres, and current classifications could be outdated. Furthermore, a video game’s genre is not necessarily bound to its narrative; interactive components of a video game also contribute to its genre classification<sup>1, 2</sup>. Even with these challenges, perhaps a certain combination of sales and game identifiers could accurately predict a game's genre.\n",
    "   \n",
    "Game identifiers include the platform or console under which it was released, its ESRB rating, and the content descriptors attached to the ESRB rating. The ESRB, or Entertainment Software Rating Board, was developed in the United States to aid parents’ understanding of a game’s safety and content<sup>6</sup>. The rating is defined based on age appropriateness, while content descriptors give information about in-game elements, such as “animated violence” or “gambling.” Perhaps references to certain topics could lend information towards a game’s genre. For example, action games could have content descriptors like “animated violence” or “fantasy violence.”\n",
    "    \n",
    "On the developer side, knowing the relationship between content descriptors, sales, and genre could provide some inspiration for their game development. If a certain genre performs well in a certain region, and that genre typically contains a handful of content descriptors, a developer would be motivated to include those elements in their game. For the average consumer, knowing the relationship between content descriptors and genre could be helpful when it comes to purchasing new titles, as they would likely prefer to play titles with the same genre and therefore similar game elements.\n",
    "    \n",
    "This study aims to predict genre from regional and global sales data, game platform, and information retrieved from ESRB ratings, in an attempt to not only overcome the challenges currently associated with video game genre classification, but also to aid members of the gaming community with development and title collection expansion. Prior studies<sup>3</sup> have indicated that action-adventure games are most popular worldwide, and also point to specific genres that are popular in certain countries, i.e. that Germany prefers simulation games. In addition, classification by genre has been done before<sup>4</sup>, albeit on a game’s cover art and description text rather than sales data, platform, and ESRB information. Their results reflected similar inabilities to overcome the challenges mentioned previously.\n"
   ]
  },
  {
   "cell_type": "markdown",
   "metadata": {},
   "source": [
    "## Data Preparation"
   ]
  },
  {
   "cell_type": "markdown",
   "metadata": {},
   "source": [
    "Our first dataset<sup>7</sup> of interest contains information about video games sales for titles that sold at least 100,000 copies between the years 2008-2016. The dataset is formatted as a .csv file, which we imported into a dataframe via the pandas library. A sample output is shown below:"
   ]
  },
  {
   "cell_type": "markdown",
   "metadata": {},
   "source": [
    "![](./Figures/fig1.png)"
   ]
  },
  {
   "cell_type": "markdown",
   "metadata": {},
   "source": [
    "**Figure 1** The first 5 entries of the pandas dataframe for the “Video Game Sales” dataset. There are 16598 total entries. Each row contains data for one title (differentiated both by **Name** and **Platform**). There are 11 variables: **Rank** is the ranking of the title by overall sales, **Name** is the name of the game (after making all characters lowercase to match the second dataset to be discussed), **Platform** is the platform on which the game is played, **Year** is the year of release, **Genre** and **Publisher** are self-descriptive of their columns, **NA_Sales** is the number of copies of the game sold in millions in the North America region, **EU_Sales** is the number of copies sold in millions in Europe, **JP_Sales** is the number of copies sold in millions in Japan, **Other_Sales** is the number of copies sold in millions in regions that are not NA, EU, and JP, and **Global_Sales** is the total number of copies sold in millions worldwide."
   ]
  },
  {
   "cell_type": "markdown",
   "metadata": {},
   "source": [
    "The second dataset of interest contains information about games’ ESRB rating and content descriptors. We (see **Acknowledgements**) wrote a web-scraping script in Python to extract relevant information from the ESRB search engine<sup>6</sup> given the list of video game titles in our first dataset. This script outputs a .csv containing the name, platform, ESRB rating, and list of content descriptors, delimited by commas, for each game. Using a power query in excel, we separate content descriptors for each entry. We then import the .csv using pandas, after which we clean each string (stripping newlines, making each character in the “Name” variable lowercase).  A sample output is shown below:\n"
   ]
  },
  {
   "cell_type": "markdown",
   "metadata": {},
   "source": [
    "![](./Figures/fig2.png)"
   ]
  },
  {
   "cell_type": "markdown",
   "metadata": {},
   "source": [
    "**Figure 2** The first 5 entries of the ESRB ratings dataset. Note that for a given game (same name and platform), there can be multiple entries with different content descriptors. The ESRB Ratings are E for Everyone, E10plus for Everyone 10+, M for Mature 17+, T for Teen, and AO for Adults Only. "
   ]
  },
  {
   "cell_type": "markdown",
   "metadata": {},
   "source": [
    "After data cleaning, we one-hot encode the content descriptors. Noting that the **Platform** column contains entries formatted differently from that of our first dataset (e.g. “Wii U” in this dataset is “WiiU” in the first), we re-map the entries to match that of the first dataset. See the analysis notebook for the comprehensive dictionary. Finally, we perform an inner merge on the two datasets to attain our final dataframe. A sample output of several columns is shown below:"
   ]
  },
  {
   "cell_type": "markdown",
   "metadata": {},
   "source": [
    "![](./Figures/fig3.png)"
   ]
  },
  {
   "cell_type": "markdown",
   "metadata": {},
   "source": [
    "**Figure 3** The first five entries of the combined dataset. There are 7958 total entries in this dataset, with 66 columns. The first 11 columns are those of our video games sales dataset, and the last 55 are those of the ESRB ratings dataset. **Suggestive Themes**, **Suitable for Mature Users**, and **Tobacco Reference** are examples of the columns denoting certain content descriptors, where the entry contains “0” if the content descriptor is not present for the game and “1” if it is. "
   ]
  },
  {
   "cell_type": "markdown",
   "metadata": {},
   "source": [
    "## Experimental and Results"
   ]
  },
  {
   "cell_type": "markdown",
   "metadata": {},
   "source": [
    "### I. Exploratory Data Analysis"
   ]
  },
  {
   "cell_type": "markdown",
   "metadata": {},
   "source": [
    "We first perform exploratory analysis to examine the popularity of different genres, platforms, and ESRB ratings across different regions. We are interested in the proportion of a certain group’s sales in a region to the group’s sales globally, as well as the proportion of the group’s sales in a region to all the video game sales in that region. This is better illustrated by examining our first group, genre:"
   ]
  },
  {
   "cell_type": "markdown",
   "metadata": {},
   "source": [
    "![](./Figures/fig4.png)"
   ]
  },
  {
   "cell_type": "markdown",
   "metadata": {},
   "source": [
    "**Figure 4** Barplot of the percentages of a genre sold globally. For example, in the action category, we see that about 50% of all action games were sold in NA, about 30% sold in the EU, 5% sold in JP, and 15% in Other. We see that North America dominated sales for all genres, followed mostly by EU. Only in role-playing games (RPGs) do we see Japan take a higher percentage of sales than EU."
   ]
  },
  {
   "cell_type": "markdown",
   "metadata": {},
   "source": [
    "![](./Figures/fig5.png)"
   ]
  },
  {
   "cell_type": "markdown",
   "metadata": {},
   "source": [
    "**Figure 5** Barplot of the percentage of genres sold in each region. For example, about 20% of all games sold in NA were action games, 2% were adventure games, 5% were fighting games, 10% were miscellaneous games, 7% were platform games, 2% were puzzle games, 8% were racing games, 7% were RPGs, 13% were shooters, 4% were simulation games, 20% were sports games, and 2% were strategy games. We see that the relative distributions of genres are similar across all regions except Japan, with action games largely dominating. In Japan, RPGs took the highest percentage of sales instead."
   ]
  },
  {
   "cell_type": "markdown",
   "metadata": {},
   "source": [
    "We then generate similar plots to examine sales by platform."
   ]
  },
  {
   "cell_type": "markdown",
   "metadata": {},
   "source": [
    "![](./Figures/fig6.png)"
   ]
  },
  {
   "cell_type": "markdown",
   "metadata": {},
   "source": [
    "**Figure 6** This barplot is analogous to the plot in **Figure 4**, for platform instead of genre. Again, it seems like North America dominated sales for most video game platforms. However, EU dominated PC (personal computer) and PS4 (PlayStation 4) sales, and Japan dominated Sega Saturn and SNES (Super Nintendo Entertainment System) sales, both of which are very old consoles. "
   ]
  },
  {
   "cell_type": "markdown",
   "metadata": {},
   "source": [
    "![](./Figures/fig7.png)"
   ]
  },
  {
   "cell_type": "markdown",
   "metadata": {},
   "source": [
    "**Figure 7** This barplot is analogous to the plot in **Figure 5**, for platform instead of genre. In North America, the most popular console was the XBox 360, followed by the Wii and PC. EU follows a fairly similar pattern, with their top 3 also being PC, XBox, and Wii. In Japan, most people prefer the DS, followed by the Wii and PlayStation. In the rest of the world, PlayStation2 and PlayStation3 games were to be the most popular."
   ]
  },
  {
   "cell_type": "markdown",
   "metadata": {},
   "source": [
    "Finally, we generate plots for sales by ESRB ratings."
   ]
  },
  {
   "cell_type": "markdown",
   "metadata": {},
   "source": [
    "![](./Figures/fig8.png)"
   ]
  },
  {
   "cell_type": "markdown",
   "metadata": {},
   "source": [
    "**Figure 8** This barplot is analogous to the plot in Figure 4, for ESRB rating instead of genre. North America took the highest percentage of sales for all ESRB rating categories except for Adults Only, for which Other regions dominated. "
   ]
  },
  {
   "cell_type": "markdown",
   "metadata": {},
   "source": [
    "![](./Figures/fig9.png)"
   ]
  },
  {
   "cell_type": "markdown",
   "metadata": {},
   "source": [
    "**Figure 9** This barplot is analogous to the plot in **Figure 5**, for ESRB rating instead of genre. E rated games are the most popular across all regions, as may be expected as they encompass the largest audience."
   ]
  },
  {
   "cell_type": "markdown",
   "metadata": {},
   "source": [
    "### II. Principal Component Analysis"
   ]
  },
  {
   "cell_type": "markdown",
   "metadata": {},
   "source": [
    "Our goal is to classify games by genre using a random forest. After one-hot encoding the Platform variable, we end up with 84 features of interest (see analysis notebook for list); it would be helpful, then, to project our data into two dimensions, such that we may draw an interpretable decision boundary. This may be done using principal component analysis.\n",
    "\n",
    "Principal component analysis, commonly abbreviated as PCA, is a statistical method for reducing the dimensionality of a dataset. The idea behind PCA is to increase interpretability of datasets with many variables while retaining as much information as possible<sup>5</sup>. We successively create “principal components” from linear combinations of the original features such that variance is maximized and components are orthogonal to one another. This reduces to an eigenvector/eigenvalue problem, where each eigenvector represents the direction of the new axis, and each eigenvalue is a measure of how much variance is explained along that axis. For a dataset of p variables, we have p principal components (PCs). We then drop the PCs that explain the least variance in the data until we have the desired number of dimensions. The result is a projection of our original feature space into a subspace of fewer dimensions.\n",
    "\n",
    "Before performing the PCA transformation, we standardize the variables. Since the method is based on maximizing variance for each principal component, features with large scales would artificially have a greater weight in each component given their naturally high variance. We use sci-kit learn’s StandardScaler class to standardize each variable to mean 0 and variance 1. Using the functions provided by sci-kit learn, we perform PCA on our 84 features of interest. "
   ]
  },
  {
   "cell_type": "markdown",
   "metadata": {},
   "source": [
    "![](./Figures/fig10.png)"
   ]
  },
  {
   "cell_type": "markdown",
   "metadata": {},
   "source": [
    "**Figure 10** Bar plot of explained variance ratios. Variance is successively maximized by nature of the method, so the explained variance decreases with each component, as seen in the plot. Since a decision boundary is most interpretable in 2 dimensions, we keep only the first two principal components. The explained variance ratios of the first 2 PC’s, respectively, are 5.85% and 4.70%. In total, they explain 10.55% of the variance in the dataset. "
   ]
  },
  {
   "cell_type": "markdown",
   "metadata": {},
   "source": [
    "We then transform and project our data into the new 2D subspace using the eigenvectors given by our first 2 principal components."
   ]
  },
  {
   "cell_type": "markdown",
   "metadata": {},
   "source": [
    "![](./Figures/fig11.png)"
   ]
  },
  {
   "cell_type": "markdown",
   "metadata": {},
   "source": [
    "**Figure 11** Scatterplot of video game genre by the first 2 PCs. Genres are differentiated by color as described by the legend. In a “successful” PCA, we would observe linearly separable groups of colors indicating that the genres may be well classified using the first two PCs. This is not the case for our plot, as save for a few action games and shooter gamer, the rest of the games appear to be layered over each other."
   ]
  },
  {
   "cell_type": "markdown",
   "metadata": {},
   "source": [
    "### III. Random Forest Classifier"
   ]
  },
  {
   "cell_type": "markdown",
   "metadata": {},
   "source": [
    "Random forests are an extension to decision trees, which follow a flow-chart decision-making process to classify entries. We treat our dataset as the “population” and use a subset of the dataset as the sample to use with a single decision tree. Random forests employ multiple smaller decision trees using bagging, which is a method of sampling with replacement, then uses the “wisdom of the crowds” to make a final decision. In other words, random forests will select as its decision what the majority of its decision trees have decided.\n",
    "\n",
    "We first split our dataset into a training and test set, in a 75-25 ratio. We employ cross validation using K-Fold splits on our training set, with the number of splits being 4. We tune our classifier by initializing the RandomForestClassifier with different maximum depths, fitting to our training data, and computing the accuracy on our validation data to choose the max depth parameter. We fit our model using the max depth that yielded the highest accuracy on the validation data, and compute the accuracy on our test set. For our first two PCs, the random forest was initialized with a max depth of 10, and yielded an accuracy of 31.2%. For comparison, without depth limiting, the random forest classifier yielded an accuracy of 25.5%. The decision boundary is shown below:"
   ]
  },
  {
   "cell_type": "markdown",
   "metadata": {},
   "source": [
    "![](./Figures/fig12.png)"
   ]
  },
  {
   "cell_type": "markdown",
   "metadata": {},
   "source": [
    "**Figure 12** Test data results plotted on the decision boundary for our random forest classifier. The number of estimators in our forest was set to 100, with a random state of 24 and max depth of 10."
   ]
  },
  {
   "cell_type": "markdown",
   "metadata": {},
   "source": [
    "For performance comparison, we perform the same classification using all 84 of our original features. The RandomForestClassifier in this case was initialized with a max depth of 15 and yielded a test accuracy of 46.7%. Without depth limiting, this classifier yielded a test accuracy of 44.9%."
   ]
  },
  {
   "cell_type": "markdown",
   "metadata": {},
   "source": [
    "## Discussion"
   ]
  },
  {
   "cell_type": "markdown",
   "metadata": {},
   "source": [
    "For this analysis, using PCA to reduce the complexity of our dataset is ineffective. One reason that the first few PC’s could have explained such little variance is that most of the features in the database are one-hot encoded variables. Out of the 84 total variables, only five of them (the sales data in the different regions, and the global sales data) are not one-hot encoded. PCA is a transformation of continuous variables such that each PC is a linear combination of variables that maximizes the variance. However, if the original features are composed of only 0’s and 1’s, then finding a transformation that maximizes variance is very difficult. For the sake of visualization, we have to take only the first two PC’s, which explains only about 10% of the variance in the data, and therefore is not a good representation of the dataset.\n",
    "\n",
    "Without using PCA, using random forests produces a much higher test accuracy. We choose to use random forests because they solve the overfitting problem that commonly occurs in model fitting methods, such as decision trees. Their only drawback is that this method tends to take a longer time to predict values in the test set; however, that is only a problem when it comes to real-time predictions. With Xudong Zhuang’s suggestion to limit the depth of each decision tree to reduce overfitting even more, our test accuracy with PCA improves about 5%, while it improves only about 1% without PCA. These small accuracy increases suggest that there are broader limitations to genre classification than limit our testing accuracy.\n",
    "Currently, genre classification is limited to a number of circumstances, one of which is that genre classification in the classical sense is applied to more traditional media such as books and movies, none of which include interactive elements the way that video games do1, 2.\n",
    "\n",
    "In addition, a single video game could be classified under multiple genres. For example, the popular game Minecraft could be classified as action-adventure, survival, strategy, and sandbox. If our dataset assigns it as “survival” and our random forests classifier predicts it to be ”sandbox,” then it would hurt the test accuracy. Even with these limitations, our classification results are comparable to the results obtained from Jiang et al1, which was about 50%. Although our classification approach cannot directly compare to theirs, both approaches face similar challenges in terms of incorporating those interactive elements and distinguishing between data points with similar features. However, to improve our classification, we need to fundamentally improve the way that we classify video game genres."
   ]
  },
  {
   "cell_type": "markdown",
   "metadata": {},
   "source": [
    "## Acknowledgements"
   ]
  },
  {
   "cell_type": "markdown",
   "metadata": {},
   "source": [
    "We would like to acknowledge Jerry Li for his help in writing the web-scraping python script, as well as Xudong Zhuang for his suggestion about limiting the depth of or pruning our random forests."
   ]
  },
  {
   "cell_type": "markdown",
   "metadata": {},
   "source": [
    "## References"
   ]
  },
  {
   "cell_type": "markdown",
   "metadata": {},
   "source": [
    "(1) Clarke, Rachel I.; Lee, Jin Ha; and Clark, Neils, \"Why Video Game Genres Fail: A Classificatory Analysis\" (2015). School of Information Studies - Faculty Scholarship. 167. \n",
    "\n",
    "(2) Clement, J. “Gaming market value worldwide 2021-2023” (2021). Statista, accessed 21 March 2021.\n",
    "\n",
    "(3) “Game Popularity by Genre: Selecting a Target Market for a Game” (2020). Nimdzi, accessed 21 March 2021.\n",
    "\n",
    "(4) Jiang, Yuhang; Zheng, Lukun. “Deep learning for video game genre classification.” arXiv:2011.12143v1 [cs.CV], 2020.\n",
    "\n",
    "(5) Joliffe, I.T.; Cadima, J. Principal component analysis: a review and recent developments. Phil. Trans. R. Soc. A 2016, 374. http://dx.doi.org/10.1098/rsta.2015.0202\n",
    "\n",
    "(6) “Search ESRB Game Ratings”. https://www.esrb.org/search/\n",
    "\n",
    "(7) Smith, G. “Video Game Sales”. Version 2. Retrieved March 5, 2021, from https://www.kaggle.com/gregorut/videogamesales."
   ]
  }
 ],
 "metadata": {
  "kernelspec": {
   "display_name": "Python 3",
   "language": "python",
   "name": "python3"
  },
  "language_info": {
   "codemirror_mode": {
    "name": "ipython",
    "version": 3
   },
   "file_extension": ".py",
   "mimetype": "text/x-python",
   "name": "python",
   "nbconvert_exporter": "python",
   "pygments_lexer": "ipython3",
   "version": "3.7.7"
  }
 },
 "nbformat": 4,
 "nbformat_minor": 4
}
